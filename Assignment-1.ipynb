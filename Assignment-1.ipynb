{
 "cells": [
  {
   "cell_type": "markdown",
   "id": "30485919-08a0-4a39-9373-1367186b65cc",
   "metadata": {},
   "source": [
    "# Peer-Graded Assignment 1"
   ]
  },
  {
   "cell_type": "markdown",
   "id": "03a6ef93-2656-458a-8e8e-94cbcc4a9338",
   "metadata": {},
   "source": [
    "#### Hello myself Satyam, curently pursuing Bachleors Degree Majored in AI & Data Science."
   ]
  },
  {
   "cell_type": "markdown",
   "id": "6ac89c9b-dd9a-49aa-8c65-1d7af694df46",
   "metadata": {},
   "source": [
    "#### Data sciences has languages such as Python and R."
   ]
  },
  {
   "cell_type": "markdown",
   "id": "e86a3bc6-4761-4f84-9983-56a10d50e6fd",
   "metadata": {},
   "source": [
    "#### Libraris in data sciences are Numpy, pandas, sklearn, toolkit, etc."
   ]
  },
  {
   "cell_type": "markdown",
   "id": "a60021f4-03c3-4eac-bed0-4e54dca98e15",
   "metadata": {},
   "source": [
    "| Tool           | Category                    | Description                                           |\n",
    "|----------------|-----------------------------|-------------------------------------------------------|\n",
    "| **Python**     | Programming Language        | A general-purpose programming language widely used in data science. |\n",
    "| **R**          | Programming Language        | A language specifically designed for statistical analysis and data visualization. |\n",
    "| **Jupyter**    | Notebooks                   | A tool for creating and sharing documents that contain live code, equations, visualizations, and narrative text. |\n",
    "| **Pandas**     | Data Manipulation Library   | A Python library for data manipulation and analysis, providing data structures like DataFrames. |\n",
    "| **Scikit-learn**| Machine Learning Library   | A Python library for machine learning, built on top of NumPy and SciPy. |\n",
    "| **TensorFlow** | Deep Learning Framework     | An open-source framework for machine learning and artificial intelligence. |\n",
    "| **Matplotlib** | Visualization Library       | A Python library for creating static, animated, and interactive visualizations in Python. |\n",
    "| **Tableau**    | Data Visualization Tool     | A powerful tool for data visualization and business intelligence. |\n",
    "| **Power BI**   | Data Visualization Tool     | A business analytics tool from Microsoft to visualize and share insights from your data. |\n",
    "| **SQL**        | Query Language              | A standard programming language used to manage and query relational databases. |\n",
    "| **GitHub**     | Version Control             | A platform for version control and collaboration, enabling multiple users to work on projects. |\n",
    "| **Hadoop**     | Big Data Framework          | An open-source framework for the distributed storage and processing of large data sets. |\n"
   ]
  },
  {
   "cell_type": "markdown",
   "id": "add26666-3cbc-4c78-9153-320a0ffbb03a",
   "metadata": {},
   "source": [
    "### Arithmetic Expression Examples\n",
    "\n",
    "In this section, we will demonstrate basic arithmetic operations in Python:\n",
    "\n",
    "1. **Addition**: Adding two numbers.\n",
    "   Example: `5 + 3` results in `8`.\n",
    "   \n",
    "2. **Subtraction**: Subtracting one number from another.\n",
    "   Example: `10 - 4` results in `6`.\n",
    "   \n",
    "3. **Multiplication**: Multiplying two numbers.\n",
    "   Example: `6 * 2` results in `12`.\n",
    "   \n",
    "4. **Division**: Dividing one number by another.\n",
    "   Example: `9 / 3` results in `3`.\n",
    "   \n",
    "5. **Exponentiation**: Raising a number to the power of another.\n",
    "   Example: `2 ** 3` results in `8`.\n",
    "   \n",
    "6. **Modulus**: Finding the remainder of a division.\n",
    "   Ex\n"
   ]
  },
  {
   "cell_type": "code",
   "execution_count": 4,
   "id": "836dc72c-4cb6-4e85-b15f-a7c67c91b6ec",
   "metadata": {},
   "outputs": [
    {
     "data": {
      "text/plain": [
       "(35, 10)"
      ]
     },
     "execution_count": 4,
     "metadata": {},
     "output_type": "execute_result"
    }
   ],
   "source": [
    "# Multiplying and adding numbers\n",
    "num1 = 7\n",
    "num2 = 5\n",
    "num3 = 3\n",
    "\n",
    "# Multiplication\n",
    "product = num1 * num2\n",
    "\n",
    "# Addition\n",
    "sum_result = num1 + num3\n",
    "\n",
    "product, sum_result\n"
   ]
  },
  {
   "cell_type": "code",
   "execution_count": 5,
   "id": "5de59dc4-25b1-49c7-afb4-68db94853c90",
   "metadata": {},
   "outputs": [
    {
     "data": {
      "text/plain": [
       "(2, 5)"
      ]
     },
     "execution_count": 5,
     "metadata": {},
     "output_type": "execute_result"
    }
   ],
   "source": [
    "# Convert minutes to hours\n",
    "def convert_minutes_to_hours(minutes):\n",
    "    hours = minutes // 60\n",
    "    remaining_minutes = minutes % 60\n",
    "    return hours, remaining_minutes\n",
    "# Example: Convert 125 minutes to hours and minutes\n",
    "convert_minutes_to_hours(125)"
   ]
  },
  {
   "cell_type": "markdown",
   "id": "5c0eaa12-a38d-4f3a-8b20-223ee5f5df3a",
   "metadata": {},
   "source": [
    "### Objectives\n",
    "\n",
    "In this exercise, we aim to:\n",
    "\n",
    "1. Demonstrate the use of basic arithmetic expressions in Python.\n",
    "2. Practice creating code cells for simple mathematical operations.\n",
    "3. Learn to convert time units (minutes to hours).\n",
    "4. Understand how to format and present information using markdown in Jupyter.\n"
   ]
  },
  {
   "cell_type": "markdown",
   "id": "14d78c7a-2fee-449c-b8c3-d0155df93d7b",
   "metadata": {},
   "source": [
    "### Author\n",
    "\n",
    "This notebook was created by **Satyam Jadhav**.\n"
   ]
  },
  {
   "cell_type": "code",
   "execution_count": null,
   "id": "247bc185-41ff-4364-a860-8aea46c8236d",
   "metadata": {},
   "outputs": [],
   "source": []
  }
 ],
 "metadata": {
  "kernelspec": {
   "display_name": "Python 3 (ipykernel)",
   "language": "python",
   "name": "python3"
  },
  "language_info": {
   "codemirror_mode": {
    "name": "ipython",
    "version": 3
   },
   "file_extension": ".py",
   "mimetype": "text/x-python",
   "name": "python",
   "nbconvert_exporter": "python",
   "pygments_lexer": "ipython3",
   "version": "3.12.3"
  }
 },
 "nbformat": 4,
 "nbformat_minor": 5
}
